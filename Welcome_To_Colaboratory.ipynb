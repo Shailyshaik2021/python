{
  "cells": [
    {
      "cell_type": "markdown",
      "metadata": {
        "id": "view-in-github",
        "colab_type": "text"
      },
      "source": [
        "<a href=\"https://colab.research.google.com/github/Shailyshaik2021/python/blob/main/Welcome_To_Colaboratory.ipynb\" target=\"_parent\"><img src=\"https://colab.research.google.com/assets/colab-badge.svg\" alt=\"Open In Colab\"/></a>"
      ]
    },
    {
      "cell_type": "markdown",
      "source": [
        "My first program"
      ],
      "metadata": {
        "id": "l1YPz5ds15hO"
      }
    },
    {
      "cell_type": "code",
      "source": [
        "x=\"hello world\"\n",
        "print(x)"
      ],
      "metadata": {
        "colab": {
          "base_uri": "https://localhost:8080/"
        },
        "id": "XYA_JKXc1sDf",
        "outputId": "185af7e8-779e-49c9-ef0d-2f61dfaab6a3"
      },
      "execution_count": 1,
      "outputs": [
        {
          "output_type": "stream",
          "name": "stdout",
          "text": [
            "hello world\n"
          ]
        }
      ]
    },
    {
      "cell_type": "markdown",
      "source": [
        "Addition"
      ],
      "metadata": {
        "id": "d0C6KMxz2k05"
      }
    },
    {
      "cell_type": "code",
      "source": [
        "x=1\n",
        "y=2\n",
        "z=x+y\n",
        "print(z)"
      ],
      "metadata": {
        "colab": {
          "base_uri": "https://localhost:8080/"
        },
        "id": "lvXZPVO_1yAo",
        "outputId": "8bfc7efa-4e1d-49ff-fa60-9ae71bd616b9"
      },
      "execution_count": 4,
      "outputs": [
        {
          "output_type": "stream",
          "name": "stdout",
          "text": [
            "3\n"
          ]
        }
      ]
    },
    {
      "cell_type": "markdown",
      "source": [
        "Datatypes"
      ],
      "metadata": {
        "id": "XxQMjq68MIpc"
      }
    },
    {
      "cell_type": "code",
      "source": [
        "x=1\n",
        "y=\"shaily\"\n",
        "z=(1,2,3)\n",
        "a=[1,2,3]\n",
        "b={1:\"john\",2:\"bob\",3:\"alice\"}\n",
        "c={1:\"p\",2:\"q\",3:\"r\"}\n",
        "s={1,2,3,\"i\",\"j\",\"k\"}\n",
        "print(type(x))\n",
        "print(type(y))\n",
        "print(type(z))\n",
        "print(type(a))\n",
        "print(type(b))\n",
        "print(type(c))\n",
        "print(type(s))"
      ],
      "metadata": {
        "colab": {
          "base_uri": "https://localhost:8080/"
        },
        "id": "hXaYnBASMRvl",
        "outputId": "e2cf9af0-f5ab-4a46-cf96-1ce4b5040001"
      },
      "execution_count": 10,
      "outputs": [
        {
          "output_type": "stream",
          "name": "stdout",
          "text": [
            "<class 'int'>\n",
            "<class 'str'>\n",
            "<class 'tuple'>\n",
            "<class 'list'>\n",
            "<class 'dict'>\n",
            "<class 'dict'>\n",
            "<class 'set'>\n"
          ]
        }
      ]
    },
    {
      "cell_type": "markdown",
      "source": [
        "UserDefined Function - def followed by function name"
      ],
      "metadata": {
        "id": "1O8q3xYcPI73"
      }
    },
    {
      "cell_type": "code",
      "source": [
        "def add(a,b):\n",
        "  sum=a+b;\n",
        "  return sum;\n",
        "add(5,6)\n",
        "\n",
        "def sub(s,x):\n",
        "  sub=(s-x);\n",
        "  return sub;\n",
        "sub(3,2)   "
      ],
      "metadata": {
        "colab": {
          "base_uri": "https://localhost:8080/"
        },
        "id": "ayAzpX5VPHLs",
        "outputId": "ebd6e333-74f7-439a-990c-4f2e93855631"
      },
      "execution_count": 26,
      "outputs": [
        {
          "output_type": "execute_result",
          "data": {
            "text/plain": [
              "1"
            ]
          },
          "metadata": {},
          "execution_count": 26
        }
      ]
    },
    {
      "cell_type": "markdown",
      "source": [
        "User input function"
      ],
      "metadata": {
        "id": "NX5DalWFRpdW"
      }
    },
    {
      "cell_type": "code",
      "source": [
        "x=int(input())\n",
        "y=int(input())\n",
        "z=x+y\n",
        "print(z)"
      ],
      "metadata": {
        "colab": {
          "base_uri": "https://localhost:8080/"
        },
        "id": "JjaoSfljRvW1",
        "outputId": "4e79b99e-c4ed-41b2-d4df-2a41bfa9f451"
      },
      "execution_count": 30,
      "outputs": [
        {
          "output_type": "stream",
          "name": "stdout",
          "text": [
            "1\n",
            "2\n",
            "3\n"
          ]
        }
      ]
    },
    {
      "cell_type": "markdown",
      "source": [
        "lambda function\n",
        "Syntax: lambda arguments:expression"
      ],
      "metadata": {
        "id": "MLWi9mlISX6O"
      }
    },
    {
      "cell_type": "code",
      "source": [
        "x=lambda a:a+10\n",
        "print(x(3))"
      ],
      "metadata": {
        "colab": {
          "base_uri": "https://localhost:8080/"
        },
        "id": "laOW9X2hSZGF",
        "outputId": "f347311a-7f56-4445-dca4-6000ad06bfb9"
      },
      "execution_count": 2,
      "outputs": [
        {
          "output_type": "stream",
          "name": "stdout",
          "text": [
            "13\n"
          ]
        }
      ]
    },
    {
      "cell_type": "code",
      "source": [
        "#multiplication of 2 numbers using lambda function\n",
        "z=lambda b,c,d:b*c*d\n",
        "print(z(2,3,2))"
      ],
      "metadata": {
        "id": "sAABqGDoWhQQ",
        "outputId": "94a5880a-616a-4702-e566-d9d1155f1cb9",
        "colab": {
          "base_uri": "https://localhost:8080/"
        }
      },
      "execution_count": 5,
      "outputs": [
        {
          "output_type": "stream",
          "name": "stdout",
          "text": [
            "12\n"
          ]
        }
      ]
    },
    {
      "cell_type": "markdown",
      "source": [
        "Conditional statements (If-else)"
      ],
      "metadata": {
        "id": "rAq5Wdl0XGl0"
      }
    },
    {
      "cell_type": "code",
      "source": [
        "a=34\n",
        "b=23\n",
        "if b>a:\n",
        "  print(\"b is greater than a\")\n",
        "else:\n",
        "  print(\"a is greater than b\")"
      ],
      "metadata": {
        "id": "j0pbYKt5XDqn",
        "outputId": "3441b657-7720-4966-a12b-50fe6590e5c6",
        "colab": {
          "base_uri": "https://localhost:8080/"
        }
      },
      "execution_count": 11,
      "outputs": [
        {
          "output_type": "stream",
          "name": "stdout",
          "text": [
            "a is greater than b\n"
          ]
        }
      ]
    },
    {
      "cell_type": "code",
      "source": [
        "#nested if-else\n",
        "a=int (input())\n",
        "b=int (input())\n",
        "if b>a:\n",
        "  print(\"b is greater than a\")\n",
        "elif b==a:\n",
        "  print(\"b is equal to a\")\n",
        "else:\n",
        "  print(\"b is less than a\")"
      ],
      "metadata": {
        "id": "oDMvP8ntX8Ty",
        "outputId": "2282b61d-8af0-4707-cd77-0bf87a2a42a9",
        "colab": {
          "base_uri": "https://localhost:8080/"
        }
      },
      "execution_count": 15,
      "outputs": [
        {
          "output_type": "stream",
          "name": "stdout",
          "text": [
            "22\n",
            "22\n",
            "b is equal to a\n"
          ]
        }
      ]
    },
    {
      "cell_type": "code",
      "source": [
        "#for loop\n",
        "cars=[\"lexus\",\"honda\",\"bmw\"]\n",
        "for n in cars:\n",
        "  print(n)"
      ],
      "metadata": {
        "id": "WUA7kfJpZxp9",
        "outputId": "59759974-e2fe-4ae9-b266-27bfe615bec1",
        "colab": {
          "base_uri": "https://localhost:8080/"
        }
      },
      "execution_count": 16,
      "outputs": [
        {
          "output_type": "stream",
          "name": "stdout",
          "text": [
            "lexus\n",
            "honda\n",
            "bmw\n"
          ]
        }
      ]
    },
    {
      "cell_type": "code",
      "source": [
        "#break\n",
        "cars=[\"lexus\",\"honda\",\"bmw\"]\n",
        "for n in cars:\n",
        "  if n==\"bmw\":\n",
        "    break\n",
        "  print(n)\n"
      ],
      "metadata": {
        "id": "1BF2i7idae9s",
        "outputId": "2bdbc06c-c297-49b1-a210-ebc0c20604cf",
        "colab": {
          "base_uri": "https://localhost:8080/"
        }
      },
      "execution_count": 22,
      "outputs": [
        {
          "output_type": "stream",
          "name": "stdout",
          "text": [
            "lexus\n",
            "honda\n"
          ]
        }
      ]
    }
  ],
  "metadata": {
    "colab": {
      "collapsed_sections": [],
      "name": "Welcome To Colaboratory",
      "toc_visible": true,
      "provenance": [],
      "include_colab_link": true
    },
    "kernelspec": {
      "display_name": "Python 3",
      "name": "python3"
    }
  },
  "nbformat": 4,
  "nbformat_minor": 0
}