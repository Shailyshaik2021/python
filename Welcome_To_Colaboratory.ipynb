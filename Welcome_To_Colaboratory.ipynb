{
  "cells": [
    {
      "cell_type": "markdown",
      "metadata": {
        "id": "view-in-github",
        "colab_type": "text"
      },
      "source": [
        "<a href=\"https://colab.research.google.com/github/Shailyshaik2021/python/blob/main/Welcome_To_Colaboratory.ipynb\" target=\"_parent\"><img src=\"https://colab.research.google.com/assets/colab-badge.svg\" alt=\"Open In Colab\"/></a>"
      ]
    },
    {
      "cell_type": "markdown",
      "source": [
        "My first program"
      ],
      "metadata": {
        "id": "l1YPz5ds15hO"
      }
    },
    {
      "cell_type": "code",
      "source": [
        "x=\"hello world\"\n",
        "print(x)"
      ],
      "metadata": {
        "colab": {
          "base_uri": "https://localhost:8080/"
        },
        "id": "XYA_JKXc1sDf",
        "outputId": "185af7e8-779e-49c9-ef0d-2f61dfaab6a3"
      },
      "execution_count": 1,
      "outputs": [
        {
          "output_type": "stream",
          "name": "stdout",
          "text": [
            "hello world\n"
          ]
        }
      ]
    },
    {
      "cell_type": "markdown",
      "source": [
        "Addition"
      ],
      "metadata": {
        "id": "d0C6KMxz2k05"
      }
    },
    {
      "cell_type": "code",
      "source": [
        "x=1\n",
        "y=2\n",
        "z=x+y\n",
        "print(z)"
      ],
      "metadata": {
        "colab": {
          "base_uri": "https://localhost:8080/"
        },
        "id": "lvXZPVO_1yAo",
        "outputId": "8bfc7efa-4e1d-49ff-fa60-9ae71bd616b9"
      },
      "execution_count": 4,
      "outputs": [
        {
          "output_type": "stream",
          "name": "stdout",
          "text": [
            "3\n"
          ]
        }
      ]
    },
    {
      "cell_type": "markdown",
      "source": [
        "Datatypes"
      ],
      "metadata": {
        "id": "XxQMjq68MIpc"
      }
    },
    {
      "cell_type": "code",
      "source": [
        "x=1\n",
        "y=\"shaily\"\n",
        "z=(1,2,3)\n",
        "a=[1,2,3]\n",
        "b={1:\"john\",2:\"bob\",3:\"alice\"}\n",
        "c={1:\"p\",2:\"q\",3:\"r\"}\n",
        "s={1,2,3,\"i\",\"j\",\"k\"}\n",
        "print(type(x))\n",
        "print(type(y))\n",
        "print(type(z))\n",
        "print(type(a))\n",
        "print(type(b))\n",
        "print(type(c))\n",
        "print(type(s))"
      ],
      "metadata": {
        "id": "hXaYnBASMRvl",
        "outputId": "e2cf9af0-f5ab-4a46-cf96-1ce4b5040001",
        "colab": {
          "base_uri": "https://localhost:8080/"
        }
      },
      "execution_count": 10,
      "outputs": [
        {
          "output_type": "stream",
          "name": "stdout",
          "text": [
            "<class 'int'>\n",
            "<class 'str'>\n",
            "<class 'tuple'>\n",
            "<class 'list'>\n",
            "<class 'dict'>\n",
            "<class 'dict'>\n",
            "<class 'set'>\n"
          ]
        }
      ]
    },
    {
      "cell_type": "markdown",
      "source": [
        "UserDefined Function - def followed by function name"
      ],
      "metadata": {
        "id": "1O8q3xYcPI73"
      }
    },
    {
      "cell_type": "code",
      "source": [
        "def add(a,b):\n",
        "  sum=a+b;\n",
        "  return sum;\n",
        "add(5,6)\n",
        "\n",
        "def sub(s,x):\n",
        "  sub=(s-x);\n",
        "  return sub;\n",
        "sub(3,2)   "
      ],
      "metadata": {
        "id": "ayAzpX5VPHLs",
        "outputId": "ebd6e333-74f7-439a-990c-4f2e93855631",
        "colab": {
          "base_uri": "https://localhost:8080/"
        }
      },
      "execution_count": 26,
      "outputs": [
        {
          "output_type": "execute_result",
          "data": {
            "text/plain": [
              "1"
            ]
          },
          "metadata": {},
          "execution_count": 26
        }
      ]
    },
    {
      "cell_type": "markdown",
      "source": [
        "User input function"
      ],
      "metadata": {
        "id": "NX5DalWFRpdW"
      }
    },
    {
      "cell_type": "code",
      "source": [
        "x=int(input())\n",
        "y=int(input())\n",
        "z=x+y\n",
        "print(z)"
      ],
      "metadata": {
        "id": "JjaoSfljRvW1",
        "outputId": "4e79b99e-c4ed-41b2-d4df-2a41bfa9f451",
        "colab": {
          "base_uri": "https://localhost:8080/"
        }
      },
      "execution_count": 30,
      "outputs": [
        {
          "output_type": "stream",
          "name": "stdout",
          "text": [
            "1\n",
            "2\n",
            "3\n"
          ]
        }
      ]
    },
    {
      "cell_type": "markdown",
      "source": [
        "Calculator"
      ],
      "metadata": {
        "id": "MLWi9mlISX6O"
      }
    },
    {
      "cell_type": "code",
      "source": [
        ""
      ],
      "metadata": {
        "id": "laOW9X2hSZGF"
      },
      "execution_count": null,
      "outputs": []
    }
  ],
  "metadata": {
    "colab": {
      "collapsed_sections": [],
      "name": "Welcome To Colaboratory",
      "toc_visible": true,
      "provenance": [],
      "include_colab_link": true
    },
    "kernelspec": {
      "display_name": "Python 3",
      "name": "python3"
    }
  },
  "nbformat": 4,
  "nbformat_minor": 0
}