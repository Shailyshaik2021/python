{
  "nbformat": 4,
  "nbformat_minor": 0,
  "metadata": {
    "colab": {
      "name": "class5.ipynb",
      "provenance": [],
      "authorship_tag": "ABX9TyM7Gy9PillU88/a2tFGEfiI",
      "include_colab_link": true
    },
    "kernelspec": {
      "name": "python3",
      "display_name": "Python 3"
    },
    "language_info": {
      "name": "python"
    }
  },
  "cells": [
    {
      "cell_type": "markdown",
      "metadata": {
        "id": "view-in-github",
        "colab_type": "text"
      },
      "source": [
        "<a href=\"https://colab.research.google.com/github/Shailyshaik2021/python/blob/main/class5.ipynb\" target=\"_parent\"><img src=\"https://colab.research.google.com/assets/colab-badge.svg\" alt=\"Open In Colab\"/></a>"
      ]
    },
    {
      "cell_type": "code",
      "execution_count": 3,
      "metadata": {
        "colab": {
          "base_uri": "https://localhost:8080/"
        },
        "id": "f8CE76gmY5DT",
        "outputId": "0cfbd323-6509-4db7-f730-9d06916ae69d"
      },
      "outputs": [
        {
          "output_type": "stream",
          "name": "stdout",
          "text": [
            "file is created\n"
          ]
        }
      ],
      "source": [
        "#file handling in python\n",
        "f=open(\"my file.txt\", \"x\")\n",
        "print(\"file is created\")"
      ]
    },
    {
      "cell_type": "code",
      "source": [
        "f=open(\"my file.txt\", \"r\")\n",
        "print(f.read()) #to read all of the content"
      ],
      "metadata": {
        "colab": {
          "base_uri": "https://localhost:8080/"
        },
        "id": "uYulYxgWbMUU",
        "outputId": "0c6f404b-4e68-4ce4-f5cc-5face8c24210"
      },
      "execution_count": 15,
      "outputs": [
        {
          "output_type": "stream",
          "name": "stdout",
          "text": [
            "this is my 5th class\n",
            "Good listening can be life-changing \n",
            "in the healthcare industry. \n",
            "The techniques we teach our Listener Poets enable people to open up, \n",
            "reflect on their experiences, and feel the healing power of \n",
            "being heard.\n"
          ]
        }
      ]
    },
    {
      "cell_type": "code",
      "source": [
        "f=open(\"my file.txt\", \"r\")\n",
        "print(f.read(20)) #how to print n number of characters"
      ],
      "metadata": {
        "colab": {
          "base_uri": "https://localhost:8080/"
        },
        "id": "D4zp2u_cdiWL",
        "outputId": "e0383fd9-d80a-43e7-d35d-a36dd090e518"
      },
      "execution_count": 19,
      "outputs": [
        {
          "output_type": "stream",
          "name": "stdout",
          "text": [
            "this is my 5th class\n"
          ]
        }
      ]
    },
    {
      "cell_type": "code",
      "source": [
        "f=open(\"my file.txt\", \"r\")\n",
        "print(f.readline()) #to read the first line"
      ],
      "metadata": {
        "colab": {
          "base_uri": "https://localhost:8080/"
        },
        "id": "7MZtr-btea5X",
        "outputId": "e2796e00-f966-40b8-8eab-80036a030bed"
      },
      "execution_count": 22,
      "outputs": [
        {
          "output_type": "stream",
          "name": "stdout",
          "text": [
            "this is my 5th class\n",
            "\n"
          ]
        }
      ]
    },
    {
      "cell_type": "code",
      "source": [
        "f=open(\"my file.txt\", \"r\")\n",
        "for x in f:\n",
        "  print (x) #to read line by line and output as para"
      ],
      "metadata": {
        "colab": {
          "base_uri": "https://localhost:8080/"
        },
        "id": "QgUNBaPhevqa",
        "outputId": "1b678b87-238d-42a4-fb52-c766142c681f"
      },
      "execution_count": 24,
      "outputs": [
        {
          "output_type": "stream",
          "name": "stdout",
          "text": [
            "this is my 5th class\n",
            "\n",
            "Good listening can be life-changing \n",
            "\n",
            "in the healthcare industry. \n",
            "\n",
            "The techniques we teach our Listener Poets enable people to open up, \n",
            "\n",
            "reflect on their experiences, and feel the healing power of \n",
            "\n",
            "being heard.\n"
          ]
        }
      ]
    },
    {
      "cell_type": "code",
      "source": [
        "f=open(\"my file.txt\", \"a\") #\"w\" for write instead of \"a\"\n",
        "f.write(\"this is my 5th class\")\n",
        "print(f.read())"
      ],
      "metadata": {
        "id": "749olyJEb4ar"
      },
      "execution_count": null,
      "outputs": []
    },
    {
      "cell_type": "code",
      "source": [
        "#deletion of file\n",
        "import os\n",
        "os.remove(\"my file.txt\")"
      ],
      "metadata": {
        "id": "iEa_tsM5dgVv"
      },
      "execution_count": 25,
      "outputs": []
    }
  ]
}