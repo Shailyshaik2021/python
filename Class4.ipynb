{
  "nbformat": 4,
  "nbformat_minor": 0,
  "metadata": {
    "colab": {
      "name": "Class4.ipynb",
      "provenance": [],
      "collapsed_sections": [],
      "toc_visible": true,
      "authorship_tag": "ABX9TyON3lMEOmUBUy1akDJkz3cN",
      "include_colab_link": true
    },
    "kernelspec": {
      "name": "python3",
      "display_name": "Python 3"
    },
    "language_info": {
      "name": "python"
    }
  },
  "cells": [
    {
      "cell_type": "markdown",
      "metadata": {
        "id": "view-in-github",
        "colab_type": "text"
      },
      "source": [
        "<a href=\"https://colab.research.google.com/github/Shailyshaik2021/python/blob/main/Class4.ipynb\" target=\"_parent\"><img src=\"https://colab.research.google.com/assets/colab-badge.svg\" alt=\"Open In Colab\"/></a>"
      ]
    },
    {
      "cell_type": "code",
      "execution_count": 2,
      "metadata": {
        "id": "an2cyfyC-AEp"
      },
      "outputs": [],
      "source": [
        "#Create list of cars\n",
        "cars=[\"audi\",\"bmw\",\"lexus\",\"fiat\"] "
      ]
    },
    {
      "cell_type": "code",
      "source": [
        "#Accessing the elements of list\n",
        "x=cars[2]\n",
        "print (x)"
      ],
      "metadata": {
        "colab": {
          "base_uri": "https://localhost:8080/"
        },
        "id": "v6yYsDms_Or4",
        "outputId": "c521929a-27e5-4f1c-e472-cfdef802d3e4"
      },
      "execution_count": 4,
      "outputs": [
        {
          "output_type": "stream",
          "name": "stdout",
          "text": [
            "lexus\n"
          ]
        }
      ]
    },
    {
      "cell_type": "code",
      "source": [
        "#modifying the element of list\n",
        "cars[1]=\"maruti\"\n",
        "print(cars)"
      ],
      "metadata": {
        "colab": {
          "base_uri": "https://localhost:8080/"
        },
        "id": "ctoUoGl5_sni",
        "outputId": "9902eb2f-29fa-4c91-a5cb-4e2da19aaf09"
      },
      "execution_count": 5,
      "outputs": [
        {
          "output_type": "stream",
          "name": "stdout",
          "text": [
            "['audi', 'maruti', 'lexus', 'fiat']\n"
          ]
        }
      ]
    },
    {
      "cell_type": "code",
      "source": [
        "#length of the list\n",
        "print (len(cars))"
      ],
      "metadata": {
        "colab": {
          "base_uri": "https://localhost:8080/"
        },
        "id": "TeirPAtnAYtO",
        "outputId": "b1f58d91-1809-4cbd-b6a7-3e6dd27e2ee6"
      },
      "execution_count": 14,
      "outputs": [
        {
          "output_type": "stream",
          "name": "stdout",
          "text": [
            "4\n"
          ]
        }
      ]
    },
    {
      "cell_type": "code",
      "source": [
        "#looping the list\n",
        "for x in cars:\n",
        "  print(x)"
      ],
      "metadata": {
        "colab": {
          "base_uri": "https://localhost:8080/"
        },
        "id": "d2M1cKiDBlBx",
        "outputId": "0bf69b52-31d4-40de-eb72-3909d000d176"
      },
      "execution_count": 20,
      "outputs": [
        {
          "output_type": "stream",
          "name": "stdout",
          "text": [
            "audi\n",
            "maruti\n",
            "lexus\n",
            "fiat\n"
          ]
        }
      ]
    },
    {
      "cell_type": "code",
      "source": [
        "#homework, searching an element in list using for loop\n",
        "for x in cars:\n",
        "  if x==\"fiat\":\n",
        "    x=\"skoda\"\n",
        "print(cars)"
      ],
      "metadata": {
        "colab": {
          "base_uri": "https://localhost:8080/"
        },
        "id": "xrDVHKnUCkzf",
        "outputId": "28eb831e-a9f7-450a-a86c-dda419adc518"
      },
      "execution_count": 32,
      "outputs": [
        {
          "output_type": "stream",
          "name": "stdout",
          "text": [
            "['audi', 'maruti', 'lexus', 'fiat']\n"
          ]
        }
      ]
    },
    {
      "cell_type": "code",
      "source": [
        "#appending an element to the list\n",
        "cars.append(\"honda\")\n",
        "print(cars)"
      ],
      "metadata": {
        "colab": {
          "base_uri": "https://localhost:8080/"
        },
        "id": "cA_x2_ymFUOa",
        "outputId": "8619399f-8ef0-4796-d4c6-5a6068f805b4"
      },
      "execution_count": 41,
      "outputs": [
        {
          "output_type": "stream",
          "name": "stdout",
          "text": [
            "['audi', 'maruti', 'lexus', 'fiat', 'honda', 'honda', 'honda']\n"
          ]
        }
      ]
    },
    {
      "cell_type": "code",
      "source": [
        "#removing an element from list\n",
        "#by default pop will remove the last element from the list if we don't mention the index \n",
        "cars.pop()\n",
        "print(cars)"
      ],
      "metadata": {
        "colab": {
          "base_uri": "https://localhost:8080/"
        },
        "id": "F2IM-RRbGMyw",
        "outputId": "fc4f8296-3218-4627-c53c-00dac261fd82"
      },
      "execution_count": 42,
      "outputs": [
        {
          "output_type": "stream",
          "name": "stdout",
          "text": [
            "['audi', 'maruti', 'lexus', 'fiat', 'honda', 'honda']\n"
          ]
        }
      ]
    },
    {
      "cell_type": "code",
      "source": [
        "#pop is used to remove an object\n",
        "cars.pop(2)\n",
        "print(cars)"
      ],
      "metadata": {
        "colab": {
          "base_uri": "https://localhost:8080/"
        },
        "id": "M70GkVRBGm0n",
        "outputId": "00b93426-0950-4c6e-cbc8-62f8c7bca668"
      },
      "execution_count": 43,
      "outputs": [
        {
          "output_type": "stream",
          "name": "stdout",
          "text": [
            "['audi', 'maruti', 'fiat', 'honda', 'honda']\n"
          ]
        }
      ]
    },
    {
      "cell_type": "code",
      "source": [
        "#remove is used to remove a specific value\n",
        "cars.remove(\"honda\")\n",
        "print(cars)"
      ],
      "metadata": {
        "colab": {
          "base_uri": "https://localhost:8080/"
        },
        "id": "puhGq_QVGybC",
        "outputId": "b2876445-8423-4988-e403-1f0d007ab750"
      },
      "execution_count": 46,
      "outputs": [
        {
          "output_type": "stream",
          "name": "stdout",
          "text": [
            "['audi', 'maruti', 'fiat', 'honda']\n"
          ]
        }
      ]
    }
  ]
}